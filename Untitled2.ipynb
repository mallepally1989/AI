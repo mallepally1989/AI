{
 "cells": [
  {
   "cell_type": "code",
   "execution_count": 1,
   "metadata": {},
   "outputs": [],
   "source": [
    "import heapq"
   ]
  },
  {
   "cell_type": "code",
   "execution_count": 2,
   "metadata": {},
   "outputs": [],
   "source": [
    "class Node:\n",
    "\tdef _init_(self, parent=None, position=None):\n",
    "\t\tself.parent = parent\n",
    "\t\tself.position = position\n",
    "\n",
    "\t\tself.g = 0\n",
    "\t\tself.h = 0\n",
    "\t\tself.f = 0\n",
    "\n",
    "\tdef _eq_(self, other):\n",
    "\t\treturn self.position == other.position\n",
    "\n",
    "\tdef _repr_(self):\n",
    "\t\treturn f\"{self.position} - g: {self.g} h: {self.h} f: {self.f}\"\n",
    "\n",
    "\tdef _lt_(self, other):\n",
    "\t\treturn self.f < other.f\n",
    "\n",
    "\tdef _gt_(self, other):\n",
    "\t\treturn self.f > other.f"
   ]
  },
  {
   "cell_type": "code",
   "execution_count": 3,
   "metadata": {},
   "outputs": [],
   "source": [
    "def calc_manhattan(curr, goal):\n",
    "\treturn abs(curr[0] - goal[0]) + abs(curr[1] - goal[1])\n",
    "\n",
    "def calc_euclidean(curr, goal):\n",
    "\treturn ((curr[0] - goal[0]) * 2) + ((curr[1] - goal[1]) * 2) \n",
    "\n",
    "def get_path(current_node):\n",
    "\tpath = []\n",
    "\tcurrent = current_node\n",
    "\twhile current is not None:\n",
    "\t\tpath.append(current.position)\n",
    "\t\tcurrent = current.parent\n",
    "\treturn path[::-1]\n",
    "\n",
    "def print_maze(maze, start, end, path = None):\n",
    "\tif path:\n",
    "\t\tfor p in path:\n",
    "\t\t\tmaze[p[0]][p[1]] = \"*\"\n",
    "\tmaze[start[0]][start[1]] = \"A\"\n",
    "\tmaze[end[0]][end[1]] = \"B\"\n",
    "\tfor row in maze:\n",
    "\t\tprint(\"\".join(row))"
   ]
  },
  {
   "cell_type": "code",
   "execution_count": 4,
   "metadata": {},
   "outputs": [],
   "source": [
    "def Astar(maze, start, end, allow_diagonal= False):\n",
    "\tstart_node = Node(position = start)\n",
    "\tend_node = Node(position = end)\n",
    "\n",
    "\topen_list = []\n",
    "\tclosed_list  = []\n",
    "\n",
    "\theapq.heapify(open_list)\n",
    "\theapq.heappush(open_list, start_node)\n",
    "\n",
    "\tadjacent_pos = ((0,-1), (0,1), (-1,0), (1,0))\n",
    "\tif allow_diagonal:\n",
    "\t\tadjacent_pos = ((0, -1), (0, 1), (-1, 0), (1, 0), (-1, -1), (-1, 1), (1, -1), (1, 1),)\n",
    "\t\n",
    "\twhile len(open_list) > 0:\n",
    "\t\tcurrent_node = heapq.heappop(open_list)\n",
    "\t\tclosed_list.append(current_node)\n",
    "\n",
    "\t\tif current_node == end_node:\n",
    "\t\t\treturn get_path(current_node)\n",
    "\n",
    "\t\tchildren = []\n",
    "\t\tfor new_pos in adjacent_pos:\n",
    "\t\t\tnode_position = (current_node.position[0] + new_pos[0], \n",
    "\t\t\t\t\t\t\tcurrent_node.position[1] + new_pos[1])\n",
    "\n",
    "\t\t\t# Non reachable\n",
    "\t\t\tif maze[node_position[0]][node_position[1]] == \"#\":\n",
    "\t\t\t\tcontinue\n",
    "\n",
    "\t\t\tnew_node = Node(current_node, node_position)\n",
    "\t\t\tchildren.append(new_node)\n",
    "\t\tfor child in children:\n",
    "\t\t\tif len([closed_child for closed_child in closed_list if closed_child == child]) > 0:\n",
    "\t\t\t\tcontinue\n",
    "\n",
    "\t\t\tchild.g = current_node.g + 1\n",
    "\t\t\tif not allow_diagonal:\n",
    "\t\t\t\tchild.h = calc_manhattan(child.position, end_node.position)\n",
    "\t\t\tif allow_diagonal:\n",
    "\t\t\t\tchild.h = calc_euclidean(child.position, end_node.position)\n",
    "\t\t\tchild.f = child.g + child.h\n",
    "\n",
    "\t\t\tif len([open_node for open_node in open_list if child.position == open_node.position and child.g > open_node.g]) > 0:\n",
    "\t\t\t\tcontinue\n",
    "\n",
    "\t\t\theapq.heappush(open_list, child)\n",
    "\n",
    "\treturn None"
   ]
  },
  {
   "cell_type": "code",
   "execution_count": 5,
   "metadata": {},
   "outputs": [],
   "source": [
    "maze = [ [ '#', '#', '#', '#', '#', '#', '#', '#', '#', '#', '#', '#', '#', '#', '#', '#', '#', '#', '#', '#' ],\n",
    "        [ '#', 'A', ' ', ' ', ' ', ' ', '#', ' ', ' ', ' ', ' ', ' ', ' ', ' ', ' ', ' ', ' ', ' ', ' ', '#' ],\n",
    "        [ '#', ' ', ' ', ' ', ' ', ' ', '#', ' ', ' ', ' ', ' ', ' ', ' ', ' ', ' ', ' ', ' ', ' ', ' ', '#' ],\n",
    "        [ '#', ' ', ' ', ' ', ' ', ' ', '#', ' ', ' ', ' ', ' ', ' ', ' ', ' ', ' ', ' ', ' ', ' ', ' ', '#' ],\n",
    "        [ '#', ' ', ' ', ' ', ' ', ' ', '#', ' ', ' ', ' ', ' ', ' ', ' ', ' ', ' ', ' ', ' ', ' ', ' ', '#' ],\n",
    "        [ '#', ' ', ' ', ' ', ' ', ' ', '#', ' ', ' ', ' ', ' ', ' ', ' ', ' ', ' ', ' ', ' ', ' ', ' ', '#' ],\n",
    "        [ '#', ' ', ' ', ' ', ' ', ' ', '#', ' ', ' ', ' ', ' ', ' ', ' ', ' ', ' ', ' ', ' ', ' ', ' ', '#' ],\n",
    "        [ '#', ' ', ' ', ' ', ' ', ' ', '#', ' ', ' ', ' ', ' ', '#', ' ', ' ', ' ', ' ', ' ', ' ', ' ', '#' ],\n",
    "        [ '#', ' ', ' ', ' ', ' ', ' ', '#', ' ', ' ', ' ', ' ', '#', ' ', ' ', ' ', ' ', ' ', ' ', ' ', '#' ],\n",
    "        [ '#', ' ', ' ', ' ', ' ', ' ', '#', ' ', ' ', ' ', ' ', '#', ' ', ' ', ' ', ' ', ' ', ' ', ' ', '#' ],\n",
    "        [ '#', ' ', ' ', ' ', ' ', ' ', '#', ' ', ' ', ' ', ' ', '#', ' ', ' ', ' ', ' ', ' ', ' ', ' ', '#' ],\n",
    "        [ '#', ' ', ' ', ' ', ' ', ' ', '#', ' ', ' ', ' ', ' ', '#', ' ', ' ', ' ', ' ', ' ', ' ', ' ', '#' ],\n",
    "        [ '#', ' ', ' ', ' ', ' ', ' ', '#', ' ', ' ', ' ', ' ', '#', ' ', ' ', ' ', ' ', ' ', ' ', ' ', '#' ],\n",
    "        [ '#', ' ', ' ', ' ', ' ', ' ', ' ', ' ', ' ', ' ', ' ', '#', ' ', ' ', ' ', ' ', ' ', ' ', ' ', '#' ],\n",
    "        [ '#', ' ', ' ', ' ', ' ', ' ', ' ', ' ', ' ', ' ', ' ', '#', ' ', ' ', ' ', ' ', ' ', ' ', ' ', '#' ],\n",
    "        [ '#', ' ', ' ', ' ', ' ', ' ', ' ', ' ', ' ', ' ', ' ', '#', ' ', ' ', ' ', ' ', ' ', ' ', ' ', '#' ],\n",
    "        [ '#', ' ', ' ', ' ', ' ', ' ', ' ', ' ', ' ', ' ', ' ', '#', ' ', ' ', ' ', ' ', ' ', ' ', ' ', '#' ],\n",
    "        [ '#', ' ', ' ', ' ', ' ', ' ', ' ', ' ', ' ', ' ', ' ', '#', ' ', ' ', ' ', ' ', ' ', ' ', ' ', '#' ],\n",
    "        [ '#', ' ', ' ', ' ', ' ', ' ', ' ', ' ', ' ', ' ', ' ', ' ', ' ', ' ', ' ', ' ', ' ', ' ', 'B', '#' ],\n",
    "        [ '#', '#', '#', '#', '#', '#', '#', '#', '#', '#', '#', '#', '#', '#', '#', '#', '#', '#', '#', '#' ]]\n",
    "start_x = 1\n",
    "start_y = 1\n",
    "end_x = 19\n",
    "end_y = 19"
   ]
  },
  {
   "cell_type": "code",
   "execution_count": 6,
   "metadata": {},
   "outputs": [],
   "source": [
    "def main():\n",
    "    start = (start_x, start_y)\n",
    "    end = (end_x, end_y)\n",
    "    path = Astar(maze, start, end)\n",
    "    path= None\n",
    "    print_maze(maze, start, end, path)\n",
    "    path = Astar(maze, start, end, allow_diagonal=True)\n",
    "    print_maze(maze, start, end, path)"
   ]
  },
  {
   "cell_type": "code",
   "execution_count": 7,
   "metadata": {},
   "outputs": [
    {
     "ename": "TypeError",
     "evalue": "Node() takes no arguments",
     "output_type": "error",
     "traceback": [
      "\u001b[0;31m---------------------------------------------------------------------------\u001b[0m",
      "\u001b[0;31mTypeError\u001b[0m                                 Traceback (most recent call last)",
      "\u001b[0;32m<ipython-input-7-263240bbee7e>\u001b[0m in \u001b[0;36m<module>\u001b[0;34m\u001b[0m\n\u001b[0;32m----> 1\u001b[0;31m \u001b[0mmain\u001b[0m\u001b[0;34m(\u001b[0m\u001b[0;34m)\u001b[0m\u001b[0;34m\u001b[0m\u001b[0;34m\u001b[0m\u001b[0m\n\u001b[0m",
      "\u001b[0;32m<ipython-input-6-54cb92a3561a>\u001b[0m in \u001b[0;36mmain\u001b[0;34m()\u001b[0m\n\u001b[1;32m      2\u001b[0m     \u001b[0mstart\u001b[0m \u001b[0;34m=\u001b[0m \u001b[0;34m(\u001b[0m\u001b[0mstart_x\u001b[0m\u001b[0;34m,\u001b[0m \u001b[0mstart_y\u001b[0m\u001b[0;34m)\u001b[0m\u001b[0;34m\u001b[0m\u001b[0;34m\u001b[0m\u001b[0m\n\u001b[1;32m      3\u001b[0m     \u001b[0mend\u001b[0m \u001b[0;34m=\u001b[0m \u001b[0;34m(\u001b[0m\u001b[0mend_x\u001b[0m\u001b[0;34m,\u001b[0m \u001b[0mend_y\u001b[0m\u001b[0;34m)\u001b[0m\u001b[0;34m\u001b[0m\u001b[0;34m\u001b[0m\u001b[0m\n\u001b[0;32m----> 4\u001b[0;31m     \u001b[0mpath\u001b[0m \u001b[0;34m=\u001b[0m \u001b[0mAstar\u001b[0m\u001b[0;34m(\u001b[0m\u001b[0mmaze\u001b[0m\u001b[0;34m,\u001b[0m \u001b[0mstart\u001b[0m\u001b[0;34m,\u001b[0m \u001b[0mend\u001b[0m\u001b[0;34m)\u001b[0m\u001b[0;34m\u001b[0m\u001b[0;34m\u001b[0m\u001b[0m\n\u001b[0m\u001b[1;32m      5\u001b[0m     \u001b[0mpath\u001b[0m\u001b[0;34m=\u001b[0m \u001b[0;32mNone\u001b[0m\u001b[0;34m\u001b[0m\u001b[0;34m\u001b[0m\u001b[0m\n\u001b[1;32m      6\u001b[0m     \u001b[0mprint_maze\u001b[0m\u001b[0;34m(\u001b[0m\u001b[0mmaze\u001b[0m\u001b[0;34m,\u001b[0m \u001b[0mstart\u001b[0m\u001b[0;34m,\u001b[0m \u001b[0mend\u001b[0m\u001b[0;34m,\u001b[0m \u001b[0mpath\u001b[0m\u001b[0;34m)\u001b[0m\u001b[0;34m\u001b[0m\u001b[0;34m\u001b[0m\u001b[0m\n",
      "\u001b[0;32m<ipython-input-4-990d904b417f>\u001b[0m in \u001b[0;36mAstar\u001b[0;34m(maze, start, end, allow_diagonal)\u001b[0m\n\u001b[1;32m      1\u001b[0m \u001b[0;32mdef\u001b[0m \u001b[0mAstar\u001b[0m\u001b[0;34m(\u001b[0m\u001b[0mmaze\u001b[0m\u001b[0;34m,\u001b[0m \u001b[0mstart\u001b[0m\u001b[0;34m,\u001b[0m \u001b[0mend\u001b[0m\u001b[0;34m,\u001b[0m \u001b[0mallow_diagonal\u001b[0m\u001b[0;34m=\u001b[0m \u001b[0;32mFalse\u001b[0m\u001b[0;34m)\u001b[0m\u001b[0;34m:\u001b[0m\u001b[0;34m\u001b[0m\u001b[0;34m\u001b[0m\u001b[0m\n\u001b[0;32m----> 2\u001b[0;31m         \u001b[0mstart_node\u001b[0m \u001b[0;34m=\u001b[0m \u001b[0mNode\u001b[0m\u001b[0;34m(\u001b[0m\u001b[0mposition\u001b[0m \u001b[0;34m=\u001b[0m \u001b[0mstart\u001b[0m\u001b[0;34m)\u001b[0m\u001b[0;34m\u001b[0m\u001b[0;34m\u001b[0m\u001b[0m\n\u001b[0m\u001b[1;32m      3\u001b[0m         \u001b[0mend_node\u001b[0m \u001b[0;34m=\u001b[0m \u001b[0mNode\u001b[0m\u001b[0;34m(\u001b[0m\u001b[0mposition\u001b[0m \u001b[0;34m=\u001b[0m \u001b[0mend\u001b[0m\u001b[0;34m)\u001b[0m\u001b[0;34m\u001b[0m\u001b[0;34m\u001b[0m\u001b[0m\n\u001b[1;32m      4\u001b[0m \u001b[0;34m\u001b[0m\u001b[0m\n\u001b[1;32m      5\u001b[0m         \u001b[0mopen_list\u001b[0m \u001b[0;34m=\u001b[0m \u001b[0;34m[\u001b[0m\u001b[0;34m]\u001b[0m\u001b[0;34m\u001b[0m\u001b[0;34m\u001b[0m\u001b[0m\n",
      "\u001b[0;31mTypeError\u001b[0m: Node() takes no arguments"
     ]
    }
   ],
   "source": [
    "main()"
   ]
  },
  {
   "cell_type": "code",
   "execution_count": null,
   "metadata": {},
   "outputs": [],
   "source": []
  }
 ],
 "metadata": {
  "kernelspec": {
   "display_name": "Python 3",
   "language": "python",
   "name": "python3"
  },
  "language_info": {
   "codemirror_mode": {
    "name": "ipython",
    "version": 3
   },
   "file_extension": ".py",
   "mimetype": "text/x-python",
   "name": "python",
   "nbconvert_exporter": "python",
   "pygments_lexer": "ipython3",
   "version": "3.8.5"
  }
 },
 "nbformat": 4,
 "nbformat_minor": 4
}
